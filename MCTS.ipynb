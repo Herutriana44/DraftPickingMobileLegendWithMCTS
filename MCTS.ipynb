{
 "cells": [
  {
   "cell_type": "markdown",
   "metadata": {},
   "source": [
    "# Introduction\n",
    "\n",
    "import library, class dan load file data dalam file DraftPick(Team-Player-Hero).pkl"
   ]
  },
  {
   "cell_type": "code",
   "execution_count": 8,
   "metadata": {},
   "outputs": [],
   "source": [
    "import json\n",
    "import pandas as pd\n",
    "import random as rd\n",
    "import pickle\n",
    "from IPython.display import Markdown"
   ]
  },
  {
   "cell_type": "code",
   "execution_count": 2,
   "metadata": {},
   "outputs": [],
   "source": [
    "class Team:\n",
    "    def __init__(self, name, player):\n",
    "        self.name = name\n",
    "        self.player = player\n",
    "\n",
    "class Player:\n",
    "    def __init__(self, name, hero_pool, team):\n",
    "        self.name = name\n",
    "        self.hero_pool = hero_pool\n",
    "        self.team = team\n",
    "\n",
    "class Hero:\n",
    "    def __init__(self, name, power, user):\n",
    "        self.name = name\n",
    "        self.power = power\n",
    "        self.user = user"
   ]
  },
  {
   "cell_type": "code",
   "execution_count": 3,
   "metadata": {},
   "outputs": [],
   "source": [
    "data = pickle.load(open('DraftPick(Team-Player-Hero).pkl', 'rb'))"
   ]
  },
  {
   "cell_type": "code",
   "execution_count": 17,
   "metadata": {},
   "outputs": [
    {
     "name": "stdout",
     "output_type": "stream",
     "text": [
      "Rebelion\n",
      "Aura Fire\n",
      "Geek Fam\n",
      "Alter Ego\n",
      "Onic\n",
      "RRQ\n",
      "Dewa United\n",
      "Bigetron\n",
      "Evos\n"
     ]
    }
   ],
   "source": [
    "#@title ## Pilih Team yang ingin dilawan(tidak boleh sama dengan lawan)\n",
    "for team in range(len(data)):\n",
    "    print(data[team].name)"
   ]
  },
  {
   "cell_type": "code",
   "execution_count": null,
   "metadata": {},
   "outputs": [],
   "source": []
  }
 ],
 "metadata": {
  "kernelspec": {
   "display_name": "Python 3",
   "language": "python",
   "name": "python3"
  },
  "language_info": {
   "codemirror_mode": {
    "name": "ipython",
    "version": 3
   },
   "file_extension": ".py",
   "mimetype": "text/x-python",
   "name": "python",
   "nbconvert_exporter": "python",
   "pygments_lexer": "ipython3",
   "version": "3.11.4"
  }
 },
 "nbformat": 4,
 "nbformat_minor": 2
}
