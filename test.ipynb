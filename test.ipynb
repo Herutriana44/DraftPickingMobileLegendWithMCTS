{
 "cells": [
  {
   "cell_type": "code",
   "execution_count": 1,
   "metadata": {},
   "outputs": [
    {
     "name": "stdout",
     "output_type": "stream",
     "text": [
      "A\n",
      "  B\n",
      "    E\n",
      "    F\n",
      "    G\n",
      "  C\n",
      "  D\n",
      "    H\n",
      "    I\n"
     ]
    }
   ],
   "source": [
    "class TreeNode:\n",
    "    def __init__(self, data):\n",
    "        self.data = data\n",
    "        self.children = []\n",
    "\n",
    "    def add_child(self, child_node):\n",
    "        self.children.append(child_node)\n",
    "\n",
    "def print_tree(node, level=0):\n",
    "    print(\"  \" * level + str(node.data))\n",
    "    for child in node.children:\n",
    "        print_tree(child, level + 1)\n",
    "\n",
    "# Contoh penggunaan\n",
    "if __name__ == \"__main__\":\n",
    "    root = TreeNode(\"A\")\n",
    "    \n",
    "    b = TreeNode(\"B\")\n",
    "    c = TreeNode(\"C\")\n",
    "    d = TreeNode(\"D\")\n",
    "    \n",
    "    root.add_child(b)\n",
    "    root.add_child(c)\n",
    "    root.add_child(d)\n",
    "    \n",
    "    e = TreeNode(\"E\")\n",
    "    f = TreeNode(\"F\")\n",
    "    g = TreeNode(\"G\")\n",
    "    \n",
    "    b.add_child(e)\n",
    "    b.add_child(f)\n",
    "    b.add_child(g)\n",
    "    \n",
    "    h = TreeNode(\"H\")\n",
    "    i = TreeNode(\"I\")\n",
    "    \n",
    "    d.add_child(h)\n",
    "    d.add_child(i)\n",
    "    \n",
    "    print_tree(root)\n"
   ]
  }
 ],
 "metadata": {
  "kernelspec": {
   "display_name": "Python 3",
   "language": "python",
   "name": "python3"
  },
  "language_info": {
   "codemirror_mode": {
    "name": "ipython",
    "version": 3
   },
   "file_extension": ".py",
   "mimetype": "text/x-python",
   "name": "python",
   "nbconvert_exporter": "python",
   "pygments_lexer": "ipython3",
   "version": "3.11.4"
  }
 },
 "nbformat": 4,
 "nbformat_minor": 2
}
