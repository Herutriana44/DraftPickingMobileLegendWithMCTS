{
 "cells": [
  {
   "cell_type": "code",
   "execution_count": 1,
   "metadata": {},
   "outputs": [],
   "source": [
    "import pandas as pd"
   ]
  },
  {
   "cell_type": "code",
   "execution_count": 9,
   "metadata": {},
   "outputs": [],
   "source": [
    "df = pd.read_excel('Hero Pool.xlsx')\n",
    "df = df.fillna(\"0\")\n",
    "hero_col = [i for i in df.columns if 'Hero' in i]\n",
    "all_tim = list(df['Tim'].unique())"
   ]
  },
  {
   "cell_type": "code",
   "execution_count": 5,
   "metadata": {},
   "outputs": [
    {
     "data": {
      "text/html": [
       "<div>\n",
       "<style scoped>\n",
       "    .dataframe tbody tr th:only-of-type {\n",
       "        vertical-align: middle;\n",
       "    }\n",
       "\n",
       "    .dataframe tbody tr th {\n",
       "        vertical-align: top;\n",
       "    }\n",
       "\n",
       "    .dataframe thead th {\n",
       "        text-align: right;\n",
       "    }\n",
       "</style>\n",
       "<table border=\"1\" class=\"dataframe\">\n",
       "  <thead>\n",
       "    <tr style=\"text-align: right;\">\n",
       "      <th></th>\n",
       "      <th>Tim</th>\n",
       "      <th>Player</th>\n",
       "      <th>Hero 1</th>\n",
       "      <th>Hero 2</th>\n",
       "      <th>Hero 3</th>\n",
       "      <th>Hero 4</th>\n",
       "      <th>Hero 5</th>\n",
       "      <th>Hero 6</th>\n",
       "      <th>Hero 7</th>\n",
       "      <th>Hero 8</th>\n",
       "      <th>Hero 9</th>\n",
       "      <th>Hero 10</th>\n",
       "      <th>Hero 11</th>\n",
       "      <th>Hero 12</th>\n",
       "      <th>Hero 13</th>\n",
       "      <th>Hero 14</th>\n",
       "      <th>Hero 15</th>\n",
       "    </tr>\n",
       "  </thead>\n",
       "  <tbody>\n",
       "    <tr>\n",
       "      <th>0</th>\n",
       "      <td>Alter Ego</td>\n",
       "      <td>Pai</td>\n",
       "      <td>Terizla</td>\n",
       "      <td>Yu Zhong</td>\n",
       "      <td>Uranus</td>\n",
       "      <td>Arlot</td>\n",
       "      <td>Khaleed</td>\n",
       "      <td>Dyroth</td>\n",
       "      <td>Gloo</td>\n",
       "      <td>Edith</td>\n",
       "      <td>Paquito</td>\n",
       "      <td>X-Borg</td>\n",
       "      <td>Lapu-lapu</td>\n",
       "      <td>Fredrynn</td>\n",
       "      <td>0</td>\n",
       "      <td>0</td>\n",
       "      <td>0</td>\n",
       "    </tr>\n",
       "    <tr>\n",
       "      <th>1</th>\n",
       "      <td>Alter Ego</td>\n",
       "      <td>Udil</td>\n",
       "      <td>Valentina</td>\n",
       "      <td>Yve</td>\n",
       "      <td>Faramis</td>\n",
       "      <td>Pharsa</td>\n",
       "      <td>Novaria</td>\n",
       "      <td>Kadita</td>\n",
       "      <td>Angela</td>\n",
       "      <td>0</td>\n",
       "      <td>0</td>\n",
       "      <td>0</td>\n",
       "      <td>0</td>\n",
       "      <td>0</td>\n",
       "      <td>0</td>\n",
       "      <td>0</td>\n",
       "      <td>0</td>\n",
       "    </tr>\n",
       "    <tr>\n",
       "      <th>2</th>\n",
       "      <td>Alter Ego</td>\n",
       "      <td>Celiboy</td>\n",
       "      <td>Martis</td>\n",
       "      <td>Baxia</td>\n",
       "      <td>Fanny</td>\n",
       "      <td>Helcurt</td>\n",
       "      <td>Hayabusa</td>\n",
       "      <td>Akai</td>\n",
       "      <td>Hylos</td>\n",
       "      <td>Fredrynn</td>\n",
       "      <td>Grock</td>\n",
       "      <td>Bane</td>\n",
       "      <td>Ling</td>\n",
       "      <td>Joy</td>\n",
       "      <td>Lancelot</td>\n",
       "      <td>0</td>\n",
       "      <td>0</td>\n",
       "    </tr>\n",
       "    <tr>\n",
       "      <th>3</th>\n",
       "      <td>Alter Ego</td>\n",
       "      <td>Rasy</td>\n",
       "      <td>Chou</td>\n",
       "      <td>Kadita</td>\n",
       "      <td>Valir</td>\n",
       "      <td>Kufra</td>\n",
       "      <td>Edith</td>\n",
       "      <td>Novaria</td>\n",
       "      <td>Minotaur</td>\n",
       "      <td>Baxia</td>\n",
       "      <td>Grock</td>\n",
       "      <td>Angela</td>\n",
       "      <td>Arlot</td>\n",
       "      <td>Rafaela</td>\n",
       "      <td>0</td>\n",
       "      <td>0</td>\n",
       "      <td>0</td>\n",
       "    </tr>\n",
       "    <tr>\n",
       "      <th>4</th>\n",
       "      <td>Alter Ego</td>\n",
       "      <td>Nino</td>\n",
       "      <td>Irithel</td>\n",
       "      <td>Claude</td>\n",
       "      <td>Beatrix</td>\n",
       "      <td>Bruno</td>\n",
       "      <td>Brody</td>\n",
       "      <td>Harith</td>\n",
       "      <td>Lesley</td>\n",
       "      <td>Karrie</td>\n",
       "      <td>Clint</td>\n",
       "      <td>0</td>\n",
       "      <td>0</td>\n",
       "      <td>0</td>\n",
       "      <td>0</td>\n",
       "      <td>0</td>\n",
       "      <td>0</td>\n",
       "    </tr>\n",
       "  </tbody>\n",
       "</table>\n",
       "</div>"
      ],
      "text/plain": [
       "         Tim   Player     Hero 1    Hero 2   Hero 3   Hero 4    Hero 5  \\\n",
       "0  Alter Ego      Pai    Terizla  Yu Zhong   Uranus    Arlot   Khaleed   \n",
       "1  Alter Ego     Udil  Valentina       Yve  Faramis   Pharsa   Novaria   \n",
       "2  Alter Ego  Celiboy     Martis     Baxia    Fanny  Helcurt  Hayabusa   \n",
       "3  Alter Ego     Rasy       Chou    Kadita    Valir    Kufra     Edith   \n",
       "4  Alter Ego     Nino    Irithel    Claude  Beatrix    Bruno     Brody   \n",
       "\n",
       "    Hero 6    Hero 7    Hero 8   Hero 9 Hero 10    Hero 11   Hero 12  \\\n",
       "0   Dyroth      Gloo     Edith  Paquito  X-Borg  Lapu-lapu  Fredrynn   \n",
       "1   Kadita    Angela         0        0       0          0         0   \n",
       "2     Akai     Hylos  Fredrynn    Grock    Bane       Ling       Joy   \n",
       "3  Novaria  Minotaur     Baxia    Grock  Angela      Arlot   Rafaela   \n",
       "4   Harith    Lesley    Karrie    Clint       0          0         0   \n",
       "\n",
       "    Hero 13 Hero 14 Hero 15  \n",
       "0         0       0       0  \n",
       "1         0       0       0  \n",
       "2  Lancelot       0       0  \n",
       "3         0       0       0  \n",
       "4         0       0       0  "
      ]
     },
     "execution_count": 5,
     "metadata": {},
     "output_type": "execute_result"
    }
   ],
   "source": [
    "df.head()"
   ]
  },
  {
   "cell_type": "code",
   "execution_count": 38,
   "metadata": {},
   "outputs": [],
   "source": [
    "res_draft = {}\n",
    "for i in range(len(df)):\n",
    "    res_draft[df['Player'][i]] = list(set([df[j][i] for j in hero_col]))"
   ]
  },
  {
   "cell_type": "code",
   "execution_count": 45,
   "metadata": {},
   "outputs": [],
   "source": [
    "for x,y in res_draft.items():\n",
    "    try:\n",
    "        res_draft[x].remove('0')\n",
    "    except:\n",
    "        continue"
   ]
  },
  {
   "cell_type": "code",
   "execution_count": 46,
   "metadata": {},
   "outputs": [
    {
     "name": "stdout",
     "output_type": "stream",
     "text": [
      "{'Pai': ['Fredrynn', 'Edith', 'X-Borg', 'Gloo', 'Terizla', 'Dyroth', 'Khaleed', 'Paquito', 'Arlot', 'Yu Zhong', 'Uranus', 'Lapu-lapu'], 'Udil': ['Faramis', 'Pharsa', 'Kadita', 'Angela', 'Yve', 'Valentina', 'Novaria'], 'Celiboy': ['Fredrynn', 'Joy', 'Fanny', 'Martis', 'Grock', 'Bane', 'Ling', 'Hayabusa', 'Baxia', 'Akai', 'Lancelot', 'Helcurt', 'Hylos'], 'Rasy': ['Edith', 'Minotaur', 'Kufra', 'Chou', 'Grock', 'Rafaela', 'Baxia', 'Kadita', 'Angela', 'Arlot', 'Valir', 'Novaria'], 'Nino': ['Clint', 'Beatrix', 'Lesley', 'Harith', 'Claude', 'Irithel', 'Bruno', 'Brody', 'Karrie'], 'Rekt': ['Edith', 'Kaja', 'Kadita', 'Floryn', 'Diggie', 'Uranus', 'Hilda'], 'Variety': [], 'Facehugger': ['Valentina', 'Pharsa', 'Angela'], 'High': ['Edith', 'Kufra', 'Selena', 'Angela', 'Floryn', 'Franco', 'Arlot', 'Kadita', 'Novaria'], 'Kabuki': ['Beatrix', 'Claude', 'Irithel', 'Bruno', 'Brody', 'Karrie'], 'Van': ['Fredrynn', 'Joy', 'Fanny', 'Martis', 'Ling', 'Hayabusa', 'Baxia', 'Lancelot', 'Akai', 'Guiniver'], 'Kimura': ['Fredrynn', 'Ruby', 'Grock', 'Paquito', 'Arlot', 'Uranus'], 'Syn': ['Faramis', 'Pharsa', 'Gord', 'Mathilda', 'Kadita', 'Lilia', 'Yve', 'Valentina', 'Novaria'], 'Aran': ['Fredrynn', 'Edith', 'X-Borg', 'Grock', 'Esmeralda', 'Terizla', 'Yu Zhong', 'Paquito', 'Khaleed', 'Arlot', 'Badang', 'Uranus', 'Benedetta'], 'Samoht': [], 'Vynn': ['Fredrynn', 'Edith', 'Minotaur', 'Kufra', 'Chou', 'Grock', 'Kaja', 'Akai', 'Angela', 'Floryn', 'Franco', 'Novaria'], 'Kyy': ['Faramis', 'Pharsa', 'Kadita', 'Valentina', 'Diggie', 'Valir'], 'Xorizo': ['Fredrynn', 'Edith', 'Ruby', 'X-Borg', 'Grock', 'Baxia', 'Esmeralda', 'Gloo', 'Terizla', 'Paquito', 'Khaleed', 'Arlot', 'Uranus'], 'Moreno': ['Faramis', 'Pharsa', 'Gord', 'Kadita', 'Angela', 'Lilia', 'Yve', 'Valentina', 'Cecilion', 'Novaria', 'Lapu-lapu'], 'Kenn': ['Alice', 'Fredrynn', 'Joy', 'Alucard', 'Fanny', 'Martis', 'Grock', 'Alpha', 'Ling', 'Baxia', 'Lancelot', 'Akai', 'Helcurt', 'Paquito', 'Aulus'], 'Saken': ['Melissa', 'Wanwan', 'Bane', 'Beatrix', 'Harith', 'Claude', 'Irithel', 'Karrie'], 'Xyve': [], 'Narashi': [], 'Cr1te': ['Faramis', 'Pharsa', 'Ruby', 'Novaria', 'Kadita', 'Yve', 'Valentina', 'Gord'], 'Hijume': ['Faramis', 'Kadita', 'Yve', 'Valentina'], 'Sutsujin': ['Fredrynn', 'Joy', 'Fanny', 'Grock', 'Martis', 'Alpha', 'Baxia', 'Akai', 'Lancelot', 'Dyroth', 'Paquito'], 'Tazz': ['Fredrynn', 'Joy', 'Bane', 'Martis', 'Ling', 'Lancelot', 'Baxia', 'Helcurt', 'Paquito'], 'Fluffy': ['Fredrynn', 'Edith', 'X-Borg', 'Grock', 'Akai', 'Esmeralda', 'Terizla', 'Marsha', 'Paquito', 'Arlot', 'Uranus', 'Lapu-lapu'], 'Veldora': [], 'Dreams': ['Ruby', 'Kaja', 'Chou', 'Atlas', 'Angela', 'Franco'], 'Vaanstrong': ['Edith', 'Ruby', 'Kufra', 'Kaja', 'Grock', 'Chou', 'Rafaela', 'Estes', 'Atlas', 'Kadita', 'Angela', 'Floryn', 'Arlot', 'Mathilda'], 'Branz': ['Ixia', 'Clint', 'Beatrix', 'Lesley', 'Harith', 'Claude', 'Irithel', 'Bruno', 'Brody'], 'Douma': [], 'Luke': ['Fredrynn', 'Joy', 'Edith', 'X-Borg', 'Esmeralda', 'Gloo', 'Terizla', 'Paquito', 'Khaleed', 'Arlot', 'Yu Zhong', 'Uranus', 'Lapu-lapu'], 'Nnael': ['Fredrynn', 'Joy', 'Fanny', 'Martis', 'Alpha', 'Bane', 'Ling', 'Hayabusa', 'Baxia', 'Akai', 'Lancelot'], 'Aboy': ['Faramis', 'Pharsa', 'Gord', 'Angela', 'Kadita', 'Lilia', 'Yve', 'Valentina', 'Novaria'], 'Baloyskie': ['Edith', 'Ruby', 'Minotaur', 'Kufra', 'Chou', 'Grock', 'Kaja', 'Natalia', 'Rafaela', 'Mathilda', 'Kadita', 'ANgela', 'Franco', 'Saber', 'Novaria'], 'Caderaa': ['Beatrix', 'Claude', 'Irithel', 'Bruno', 'Brody', 'Karrie'], 'Markyyy': ['Wanwan', 'Harith', 'Claude', 'Irithel', 'Bruno', 'Brody', 'Karrie'], 'Butsss': ['Fredrynn', 'Edith', 'Ruby', 'X-Borg', 'Gloo', 'Dyroth', 'Terizla', 'Paquito', 'Khaleed', 'Marsha', 'Arlot', 'Yu Zhong', 'Uranus'], 'Kairi': ['Fredrynn', 'Joy', 'Fanny', 'Martis', 'Bane', 'Alpha', 'Hayabusa', 'Lancelot', 'Akai', 'Paquito', 'Leomord', 'Granger'], 'Sanz': ['Faramis', 'Pharsa', 'Novaria', 'Kadita', 'Angela', 'Lilia', 'Yve', 'Valentina', 'Gord'], 'Kiboy': ['Edith', 'Minotaur', 'Kufra', 'Kaja', 'Chou', 'Grock', 'Rafaela', 'Akai', 'Mathilda', 'Floryn', 'Kadita', 'Atlas', 'Angela', 'Franco', 'Hilda'], 'CW': ['Melissa', 'Ixia', 'Wanwan', 'Clint', 'Beatrix', 'Harith', 'Claude', 'Irithel', 'Bruno', 'Brody'], 'Drian': ['Faramis', 'Edith', 'Franco', 'Valentina'], 'Alberttt': ['Bane', 'Beatrix', 'Lancelot', 'Claude', 'Irithel', 'Bruno', 'Kadita', 'Brody'], 'Karss': ['Fredrynn', 'Edith', 'Grock', 'Esmeralda', 'Gloo', 'Terizla', 'Paquito', 'Arlot', 'Yu Zhong', 'Uranus', 'Lapu-lapu'], 'Vincent': ['Fredrynn', 'Joy', 'Fanny', 'Martis', 'Ling', 'Lancelot', 'Baxia', 'Balmond', 'Guiniver', 'Leomord'], 'Swaylow': ['Faramis', 'Pharsa', 'Lunox', 'Arlot', 'Novaria', 'Terizla', 'Cecilion', 'Angela', 'Yve', 'Valentina', 'Gord'], 'Audytz': ['Ruby', 'Minotaur', 'Kufra', 'Kaja', 'Grock', 'Rafaela', 'Mathilda', 'Angela', 'Floryn', 'Franco', 'Arlot', 'Diggie', 'Novaria'], 'Haizzamor': ['Melissa', 'Beatrix', 'Lesley', 'Harith', 'Esmeralda', 'Claude', 'Irithel', 'Bruno', 'Brody', 'Karrie'], 'Renbuu': [], 'Banana': ['Fredrynn', 'Edith', 'X-Borg', 'Grock', 'Lapu-lapu', 'Esmeralda', 'Terizla', 'Dyroth', 'Paquito', 'Khaleed', 'Arlot', 'Yu Zhong', 'Uranus', 'Benedeta'], 'Ferxic': ['Fredrynn', 'Martis', 'Grock', 'Bane', 'Ling', 'Lancelot', 'Akai', 'Baxia', 'Paquito', 'Guiniver'], 'Clayyy': ['Faramis', 'Pharsa', 'Kadita', 'Cecilion', 'Lilia', 'Yve', 'Valentina', 'Angela', 'Valir'], 'Naomi': ['Edith', 'Minotaur', 'Kufra', 'Chou', 'Kaja', 'Grock', 'Natalia', 'Rafaela', 'Angela', 'Franco', 'Diggie'], 'Skylar': ['Popol', 'Beatrix', 'Irithel', 'Claude', 'Bruno', 'Brody', 'Karrie'], 'Lemon': [], 'Dyrennn': [], 'Xinnn': [], 'Dyxon': ['Fredrynn', 'Edith', 'X-Borg', 'Terizla', 'Paquito', 'Arlot', 'Yu Zhong', 'Uranus', 'Lapu-lapu'], 'Pendragon': ['Esmeralda', 'Terizla', 'Arlot', 'Uranus'], 'Lanaya': ['Fredrynn', 'Joy', 'Martis', 'Ling', 'Hayabusa', 'Lancelot', 'Baxia', 'Thamuz'], 'Reyy': ['Joy', 'Fanny', 'Bane', 'Martis', 'Ling', 'Hayabusa', 'Lancelot'], 'Keyz': ['Faramis', 'Pharsa', 'Lunox', 'Kadita', 'Angela', 'Yve', 'Valentina', 'Novaria'], 'Leomurphy': ['Ruby', 'Kufra', 'Kaja', 'Chou', 'Grock', 'Franco', 'Arlot'], 'Shacco': [], 'Watt': ['Melissa', 'Ixia', 'Wanwan', 'Clint', 'Beatrix', 'Lesley', 'Irithel', 'Claude', 'Bruno', 'Brody', 'Karrie']}\n"
     ]
    }
   ],
   "source": [
    "print(res_draft)"
   ]
  },
  {
   "cell_type": "code",
   "execution_count": 29,
   "metadata": {},
   "outputs": [
    {
     "name": "stdout",
     "output_type": "stream",
     "text": [
      "['Fredrynn', 'Edith', 'X-Borg', 'Gloo', 'Terizla', 'Dyroth', 'Khaleed', 'Paquito', 'Arlot', 'Yu Zhong', 'Uranus', 'Lapu-lapu']\n"
     ]
    }
   ],
   "source": [
    "tes_list = list(set(['Terizla', 'Yu Zhong', 'Uranus', 'Arlot', 'Khaleed', 'Dyroth', 'Gloo', 'Edith', 'Paquito', 'X-Borg', 'Lapu-lapu', 'Fredrynn', '0', '0', '0']))\n",
    "tes_list.remove('0')\n",
    "print(tes_list)"
   ]
  },
  {
   "cell_type": "code",
   "execution_count": 47,
   "metadata": {},
   "outputs": [],
   "source": [
    "import json\n",
    "\n",
    "with open(\"hero pool.json\", \"w\") as outfile: \n",
    "    json.dump(res_draft, outfile)"
   ]
  },
  {
   "cell_type": "code",
   "execution_count": 6,
   "metadata": {},
   "outputs": [],
   "source": [
    "{\n",
    "    \"nama_tim\" : {\n",
    "        \"nama_player\" : [\"hero pool 1\", \"hero pool 1\"]\n",
    "    }\n",
    "}"
   ]
  }
 ],
 "metadata": {
  "kernelspec": {
   "display_name": "Python 3",
   "language": "python",
   "name": "python3"
  },
  "language_info": {
   "codemirror_mode": {
    "name": "ipython",
    "version": 3
   },
   "file_extension": ".py",
   "mimetype": "text/x-python",
   "name": "python",
   "nbconvert_exporter": "python",
   "pygments_lexer": "ipython3",
   "version": "3.11.4"
  }
 },
 "nbformat": 4,
 "nbformat_minor": 2
}
