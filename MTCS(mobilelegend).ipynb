{
 "cells": [
  {
   "cell_type": "code",
   "execution_count": 40,
   "metadata": {},
   "outputs": [],
   "source": [
    "class Team:\n",
    "    def __init__(self, name, player):\n",
    "        self.name = name\n",
    "        self.player = player\n",
    "\n",
    "class Player:\n",
    "    def __init__(self, name, hero_pool, team):\n",
    "        self.name = name\n",
    "        self.hero_pool = hero_pool\n",
    "        self.team = team\n",
    "\n",
    "class Hero:\n",
    "    def __init__(self, name, power, user):\n",
    "        self.name = name\n",
    "        self.power = power\n",
    "        self.user = user"
   ]
  },
  {
   "cell_type": "code",
   "execution_count": 23,
   "metadata": {},
   "outputs": [],
   "source": [
    "import json\n",
    "import pandas as pd\n",
    "import random as rd\n",
    "from operator import itemgetter\n",
    "\n",
    "def sort_dictionary_by_value(input_dict, reverse=False):\n",
    "    sorted_dict = dict(sorted(input_dict.items(), key=itemgetter(1), reverse=reverse))\n",
    "    return sorted_dict\n",
    "\n",
    "def flatten_list_recursive(input_list):\n",
    "    result = []\n",
    "    for item in input_list:\n",
    "        if isinstance(item, list):\n",
    "            result.extend(flatten_list_recursive(item))\n",
    "        else:\n",
    "            result.append(item)\n",
    "    return result\n",
    "\n",
    "def minmaxselect(num, min, max):\n",
    "    if num < min:\n",
    "        return min\n",
    "    if num > max:\n",
    "        return max\n",
    "    return num\n",
    "\n",
    "def hero_power_func(team, player, hero):\n",
    "    df = pd.read_excel('DraftPickHeroML.xlsx')\n",
    "    df = df[(df['Tim'] == team) & (df['Player'] == player)]\n",
    "    try:\n",
    "        hero_power = df[hero][0]\n",
    "\n",
    "        return hero_power\n",
    "    except:\n",
    "        return 0\n",
    "\n",
    "def all_hero_pool_in_team(team):\n",
    "    df = pd.read_excel('DraftPickHeroML.xlsx')\n",
    "    df = df[df['Tim'] == team]\n",
    "    players = df['Player'].tolist()\n",
    "    all_hero_pool = json.load(open('hero pool.json'))\n",
    "    hero_pool_team = []\n",
    "    for player in players:\n",
    "        hero_pool_team.append(all_hero_pool[player])\n",
    "    hero_pool_team = flatten_list_recursive(hero_pool_team)\n",
    "    hero_pool_team = list(set(hero_pool_team))\n",
    "\n",
    "    return hero_pool_team\n",
    "    \n",
    "\n",
    "def hero_pool_with_power(team, player):\n",
    "    # df = pd.read_excel('DraftPickHeroML.xlsx')\n",
    "    # df = df[df['Tim'] == team and df['Player'] == player]\n",
    "    all_hero_pool = json.load(open('hero pool.json'))\n",
    "    hero_pool = all_hero_pool[player]\n",
    "    # hero_pool = [hero for hero in hero_pool if hero not in banned]\n",
    "    hero_pool_power = [hero_power_func(team, player, hero) for hero in hero_pool]\n",
    "    hero_pool_res = {}\n",
    "    for i in range(len(hero_pool)):\n",
    "        hero_pool_res[hero_pool[i]] = hero_pool_power[i]\n",
    "\n",
    "    # hero_pool_res = sort_dictionary_by_value(hero_pool_res, reverse=True)\n",
    "    # hero_select = next(iter(hero_pool_res))\n",
    "    return hero_pool_res#, hero_select\n",
    "\n",
    "def select_hero_by_highest_power(hero_pool):\n",
    "    hero_select = next(iter(hero_pool))\n",
    "    return hero_select, hero_pool[hero_select]\n",
    "\n",
    "def banned_foe_hero_team(foe_team):\n",
    "    foe_hero_pool_team = all_hero_pool_in_team(foe_team)\n",
    "    return rd.choice(foe_hero_pool_team)"
   ]
  },
  {
   "cell_type": "code",
   "execution_count": 24,
   "metadata": {},
   "outputs": [
    {
     "name": "stdout",
     "output_type": "stream",
     "text": [
      "{'Fredrynn': 14.11764705882353, 'Edith': 18.52941176470588, 'X-Borg': 0.0, 'Gloo': 0.7058823529411764, 'Terizla': 34.58823529411764, 'Dyroth': 0.0, 'Khaleed': 0.0, 'Paquito': 0.0, 'Arlot': 0.0, 'Yu Zhong': 0.3529411764705882, 'Uranus': 106.9411764705882, 'Lapu-lapu': 0}\n",
      "('Fredrynn', 14.11764705882353)\n",
      "['Khaleed', 'Lapu-lapu', 'Valir', 'X-Borg', 'Yu Zhong', 'Fanny', 'Irithel', 'Rafaela', 'Yve', 'Kaja', 'Edith', 'Harith', 'Floryn', 'Brody', 'Gloo', 'Beatrix', 'Karrie', 'Lesley', 'Chou', 'Kadita', 'Grock', 'Uranus', 'Hilda', 'Faramis', 'Clint', 'Joy', 'Dyroth', 'Minotaur', 'Pharsa', 'Fredrynn', 'Baxia', 'Ling', 'Bane', 'Paquito', 'Kufra', 'Valentina', 'Lancelot', 'Hylos', 'Arlot', 'Hayabusa', 'Akai', 'Angela', 'Helcurt', 'Bruno', 'Diggie', 'Novaria', 'Claude', 'Terizla', 'Martis']\n",
      "Novaria\n"
     ]
    }
   ],
   "source": [
    "hero_pool_ex = hero_pool_with_power(\"Alter Ego\", \"Pai\")\n",
    "print(hero_pool_ex)\n",
    "print(select_hero_by_highest_power(hero_pool_ex))\n",
    "print(all_hero_pool_in_team(\"Alter Ego\"))\n",
    "print(banned_foe_hero_team('Alter Ego'))"
   ]
  },
  {
   "cell_type": "code",
   "execution_count": 2,
   "metadata": {},
   "outputs": [],
   "source": [
    "import pandas as pd\n",
    "import json\n",
    "import random as rd"
   ]
  },
  {
   "cell_type": "code",
   "execution_count": 3,
   "metadata": {},
   "outputs": [],
   "source": [
    "dataDraft = json.load(open('draft.json'))\n",
    "hero_pool = pd.read_excel(\"Hero Pool.xlsx\")\n",
    "all_hero_pool = json.load(open('hero pool.json'))"
   ]
  },
  {
   "cell_type": "code",
   "execution_count": 37,
   "metadata": {},
   "outputs": [],
   "source": [
    "all_team = []\n",
    "for tim in dataDraft['Tim']:\n",
    "    all_team.append(Team(tim, []))"
   ]
  },
  {
   "cell_type": "code",
   "execution_count": 5,
   "metadata": {},
   "outputs": [
    {
     "data": {
      "text/html": [
       "<div>\n",
       "<style scoped>\n",
       "    .dataframe tbody tr th:only-of-type {\n",
       "        vertical-align: middle;\n",
       "    }\n",
       "\n",
       "    .dataframe tbody tr th {\n",
       "        vertical-align: top;\n",
       "    }\n",
       "\n",
       "    .dataframe thead th {\n",
       "        text-align: right;\n",
       "    }\n",
       "</style>\n",
       "<table border=\"1\" class=\"dataframe\">\n",
       "  <thead>\n",
       "    <tr style=\"text-align: right;\">\n",
       "      <th></th>\n",
       "      <th>Tim</th>\n",
       "      <th>Player</th>\n",
       "      <th>Hero 1</th>\n",
       "      <th>Hero 2</th>\n",
       "      <th>Hero 3</th>\n",
       "      <th>Hero 4</th>\n",
       "      <th>Hero 5</th>\n",
       "      <th>Hero 6</th>\n",
       "      <th>Hero 7</th>\n",
       "      <th>Hero 8</th>\n",
       "      <th>Hero 9</th>\n",
       "      <th>Hero 10</th>\n",
       "      <th>Hero 11</th>\n",
       "      <th>Hero 12</th>\n",
       "      <th>Hero 13</th>\n",
       "      <th>Hero 14</th>\n",
       "      <th>Hero 15</th>\n",
       "    </tr>\n",
       "  </thead>\n",
       "  <tbody>\n",
       "    <tr>\n",
       "      <th>0</th>\n",
       "      <td>Alter Ego</td>\n",
       "      <td>Pai</td>\n",
       "      <td>Terizla</td>\n",
       "      <td>Yu Zhong</td>\n",
       "      <td>Uranus</td>\n",
       "      <td>Arlot</td>\n",
       "      <td>Khaleed</td>\n",
       "      <td>Dyroth</td>\n",
       "      <td>Gloo</td>\n",
       "      <td>Edith</td>\n",
       "      <td>Paquito</td>\n",
       "      <td>X-Borg</td>\n",
       "      <td>Lapu-lapu</td>\n",
       "      <td>Fredrynn</td>\n",
       "      <td>NaN</td>\n",
       "      <td>NaN</td>\n",
       "      <td>NaN</td>\n",
       "    </tr>\n",
       "    <tr>\n",
       "      <th>1</th>\n",
       "      <td>Alter Ego</td>\n",
       "      <td>Udil</td>\n",
       "      <td>Valentina</td>\n",
       "      <td>Yve</td>\n",
       "      <td>Faramis</td>\n",
       "      <td>Pharsa</td>\n",
       "      <td>Novaria</td>\n",
       "      <td>Kadita</td>\n",
       "      <td>Angela</td>\n",
       "      <td>NaN</td>\n",
       "      <td>NaN</td>\n",
       "      <td>NaN</td>\n",
       "      <td>NaN</td>\n",
       "      <td>NaN</td>\n",
       "      <td>NaN</td>\n",
       "      <td>NaN</td>\n",
       "      <td>NaN</td>\n",
       "    </tr>\n",
       "    <tr>\n",
       "      <th>2</th>\n",
       "      <td>Alter Ego</td>\n",
       "      <td>Celiboy</td>\n",
       "      <td>Martis</td>\n",
       "      <td>Baxia</td>\n",
       "      <td>Fanny</td>\n",
       "      <td>Helcurt</td>\n",
       "      <td>Hayabusa</td>\n",
       "      <td>Akai</td>\n",
       "      <td>Hylos</td>\n",
       "      <td>Fredrynn</td>\n",
       "      <td>Grock</td>\n",
       "      <td>Bane</td>\n",
       "      <td>Ling</td>\n",
       "      <td>Joy</td>\n",
       "      <td>Lancelot</td>\n",
       "      <td>NaN</td>\n",
       "      <td>NaN</td>\n",
       "    </tr>\n",
       "    <tr>\n",
       "      <th>3</th>\n",
       "      <td>Alter Ego</td>\n",
       "      <td>Rasy</td>\n",
       "      <td>Chou</td>\n",
       "      <td>Kadita</td>\n",
       "      <td>Valir</td>\n",
       "      <td>Kufra</td>\n",
       "      <td>Edith</td>\n",
       "      <td>Novaria</td>\n",
       "      <td>Minotaur</td>\n",
       "      <td>Baxia</td>\n",
       "      <td>Grock</td>\n",
       "      <td>Angela</td>\n",
       "      <td>Arlot</td>\n",
       "      <td>Rafaela</td>\n",
       "      <td>NaN</td>\n",
       "      <td>NaN</td>\n",
       "      <td>NaN</td>\n",
       "    </tr>\n",
       "    <tr>\n",
       "      <th>4</th>\n",
       "      <td>Alter Ego</td>\n",
       "      <td>Nino</td>\n",
       "      <td>Irithel</td>\n",
       "      <td>Claude</td>\n",
       "      <td>Beatrix</td>\n",
       "      <td>Bruno</td>\n",
       "      <td>Brody</td>\n",
       "      <td>Harith</td>\n",
       "      <td>Lesley</td>\n",
       "      <td>Karrie</td>\n",
       "      <td>Clint</td>\n",
       "      <td>NaN</td>\n",
       "      <td>NaN</td>\n",
       "      <td>NaN</td>\n",
       "      <td>NaN</td>\n",
       "      <td>NaN</td>\n",
       "      <td>NaN</td>\n",
       "    </tr>\n",
       "  </tbody>\n",
       "</table>\n",
       "</div>"
      ],
      "text/plain": [
       "         Tim   Player     Hero 1    Hero 2   Hero 3   Hero 4    Hero 5  \\\n",
       "0  Alter Ego      Pai    Terizla  Yu Zhong   Uranus    Arlot   Khaleed   \n",
       "1  Alter Ego     Udil  Valentina       Yve  Faramis   Pharsa   Novaria   \n",
       "2  Alter Ego  Celiboy     Martis     Baxia    Fanny  Helcurt  Hayabusa   \n",
       "3  Alter Ego     Rasy       Chou    Kadita    Valir    Kufra     Edith   \n",
       "4  Alter Ego     Nino    Irithel    Claude  Beatrix    Bruno     Brody   \n",
       "\n",
       "    Hero 6    Hero 7    Hero 8   Hero 9 Hero 10    Hero 11   Hero 12  \\\n",
       "0   Dyroth      Gloo     Edith  Paquito  X-Borg  Lapu-lapu  Fredrynn   \n",
       "1   Kadita    Angela       NaN      NaN     NaN        NaN       NaN   \n",
       "2     Akai     Hylos  Fredrynn    Grock    Bane       Ling       Joy   \n",
       "3  Novaria  Minotaur     Baxia    Grock  Angela      Arlot   Rafaela   \n",
       "4   Harith    Lesley    Karrie    Clint     NaN        NaN       NaN   \n",
       "\n",
       "    Hero 13 Hero 14 Hero 15  \n",
       "0       NaN     NaN     NaN  \n",
       "1       NaN     NaN     NaN  \n",
       "2  Lancelot     NaN     NaN  \n",
       "3       NaN     NaN     NaN  \n",
       "4       NaN     NaN     NaN  "
      ]
     },
     "execution_count": 5,
     "metadata": {},
     "output_type": "execute_result"
    }
   ],
   "source": [
    "hero_pool.head()"
   ]
  },
  {
   "cell_type": "code",
   "execution_count": 36,
   "metadata": {},
   "outputs": [
    {
     "data": {
      "text/plain": [
       "array(['Alter Ego', 'Aura Fire', 'Bigetron', 'Evos', 'Geek Fam', 'Onic',\n",
       "       'Rebelion', 'RRQ', 'Dewa United'], dtype=object)"
      ]
     },
     "execution_count": 36,
     "metadata": {},
     "output_type": "execute_result"
    }
   ],
   "source": [
    "hero_pool['Tim'].unique()"
   ]
  },
  {
   "cell_type": "code",
   "execution_count": null,
   "metadata": {},
   "outputs": [],
   "source": []
  },
  {
   "cell_type": "code",
   "execution_count": 41,
   "metadata": {},
   "outputs": [],
   "source": [
    "player = []\n",
    "for i in range(len(hero_pool)):\n",
    "    # print(hero_pool['Tim'][i], hero_pool['Player'][i])\n",
    "    hero_pool_ex = hero_pool_with_power(hero_pool['Tim'][i], hero_pool['Player'][i])\n",
    "    hero_pool_player = []\n",
    "    for hero, power in hero_pool_ex.items():\n",
    "        hero_pool_player.append(Hero(hero, power, hero_pool['Player'][i]))\n",
    "\n",
    "    player.append(Player(hero_pool['Player'][i],hero_pool_player,hero_pool['Tim'][i])) "
   ]
  },
  {
   "cell_type": "code",
   "execution_count": 49,
   "metadata": {},
   "outputs": [
    {
     "data": {
      "text/plain": [
       "'Alter Ego'"
      ]
     },
     "execution_count": 49,
     "metadata": {},
     "output_type": "execute_result"
    }
   ],
   "source": [
    "player[0].team"
   ]
  },
  {
   "cell_type": "code",
   "execution_count": 50,
   "metadata": {},
   "outputs": [],
   "source": [
    "for i in range(len(all_team)):\n",
    "    for j in range(len(player)):\n",
    "        if all_team[i].name == player[j].team:\n",
    "            all_team[i].player.append(player[j])"
   ]
  },
  {
   "cell_type": "code",
   "execution_count": 53,
   "metadata": {},
   "outputs": [
    {
     "data": {
      "text/plain": [
       "'Rebelion'"
      ]
     },
     "execution_count": 53,
     "metadata": {},
     "output_type": "execute_result"
    }
   ],
   "source": [
    "all_team[0].name"
   ]
  },
  {
   "cell_type": "code",
   "execution_count": 63,
   "metadata": {},
   "outputs": [
    {
     "data": {
      "text/plain": [
       "[<__main__.Player at 0x1f085e314d0>,\n",
       " <__main__.Player at 0x1f08494e790>,\n",
       " <__main__.Player at 0x1f0849e81d0>,\n",
       " <__main__.Player at 0x1f085ea3b90>,\n",
       " <__main__.Player at 0x1f0848c5190>,\n",
       " <__main__.Player at 0x1f085e0dd90>]"
      ]
     },
     "execution_count": 63,
     "metadata": {},
     "output_type": "execute_result"
    }
   ],
   "source": [
    "all_team[0].player"
   ]
  },
  {
   "cell_type": "code",
   "execution_count": 65,
   "metadata": {},
   "outputs": [
    {
     "ename": "PicklingError",
     "evalue": "Can't pickle <class '__main__.Team'>: it's not the same object as __main__.Team",
     "output_type": "error",
     "traceback": [
      "\u001b[1;31m---------------------------------------------------------------------------\u001b[0m",
      "\u001b[1;31mPicklingError\u001b[0m                             Traceback (most recent call last)",
      "Cell \u001b[1;32mIn[65], line 8\u001b[0m\n\u001b[0;32m      4\u001b[0m \u001b[38;5;66;03m# Open a file and use dump() \u001b[39;00m\n\u001b[0;32m      5\u001b[0m \u001b[38;5;28;01mwith\u001b[39;00m \u001b[38;5;28mopen\u001b[39m(\u001b[38;5;124m'\u001b[39m\u001b[38;5;124mfile.pkl\u001b[39m\u001b[38;5;124m'\u001b[39m, \u001b[38;5;124m'\u001b[39m\u001b[38;5;124mwb\u001b[39m\u001b[38;5;124m'\u001b[39m) \u001b[38;5;28;01mas\u001b[39;00m file: \n\u001b[0;32m      6\u001b[0m       \n\u001b[0;32m      7\u001b[0m     \u001b[38;5;66;03m# A new file will be created \u001b[39;00m\n\u001b[1;32m----> 8\u001b[0m     \u001b[43mpickle\u001b[49m\u001b[38;5;241;43m.\u001b[39;49m\u001b[43mdump\u001b[49m\u001b[43m(\u001b[49m\u001b[43mall_team\u001b[49m\u001b[43m,\u001b[49m\u001b[43m \u001b[49m\u001b[43mfile\u001b[49m\u001b[43m)\u001b[49m \n",
      "\u001b[1;31mPicklingError\u001b[0m: Can't pickle <class '__main__.Team'>: it's not the same object as __main__.Team"
     ]
    }
   ],
   "source": [
    "import pickle\n",
    "import os\n",
    "\n",
    "# Open a file and use dump() \n",
    "with open('file.pkl', 'wb') as file: \n",
    "      \n",
    "    # A new file will be created \n",
    "    pickle.dump(all_team, file) "
   ]
  },
  {
   "cell_type": "code",
   "execution_count": 20,
   "metadata": {},
   "outputs": [],
   "source": [
    "# all_team = []\n",
    "# for team in dataDraft['Tim']:\n",
    "#     name_team = team\n",
    "#     player = hero_pool[hero_pool['Tim'] == team]['Player'].tolist()\n",
    "#     all_team.append(Team(name_team, player))"
   ]
  },
  {
   "cell_type": "code",
   "execution_count": 66,
   "metadata": {},
   "outputs": [],
   "source": [
    "import json\n",
    "import pandas as pd\n",
    "import random as rd\n",
    "import pickle\n",
    "\n",
    "class Team:\n",
    "    def __init__(self, name, player):\n",
    "        self.name = name\n",
    "        self.player = player\n",
    "\n",
    "class Player:\n",
    "    def __init__(self, name, hero_pool, team):\n",
    "        self.name = name\n",
    "        self.hero_pool = hero_pool\n",
    "        self.team = team\n",
    "\n",
    "class Hero:\n",
    "    def __init__(self, name, power, user):\n",
    "        self.name = name\n",
    "        self.power = power\n",
    "        self.user = user\n",
    "\n",
    "def sort_dictionary_by_value(input_dict, reverse=False):\n",
    "    sorted_dict = dict(sorted(input_dict.items(), key=itemgetter(1), reverse=reverse))\n",
    "    return sorted_dict\n",
    "\n",
    "def flatten_list_recursive(input_list):\n",
    "    result = []\n",
    "    for item in input_list:\n",
    "        if isinstance(item, list):\n",
    "            result.extend(flatten_list_recursive(item))\n",
    "        else:\n",
    "            result.append(item)\n",
    "    return result\n",
    "\n",
    "def minmaxselect(num, min, max):\n",
    "    if num < min:\n",
    "        return min\n",
    "    if num > max:\n",
    "        return max\n",
    "    return num\n",
    "\n",
    "def hero_power_func(team, player, hero):\n",
    "    df = pd.read_excel('DraftPickHeroML.xlsx')\n",
    "    df = df[(df['Tim'] == team) & (df['Player'] == player)]\n",
    "    try:\n",
    "        hero_power = df[hero][0]\n",
    "\n",
    "        return hero_power\n",
    "    except:\n",
    "        return 0\n",
    "\n",
    "def all_hero_pool_in_team(team):\n",
    "    df = pd.read_excel('DraftPickHeroML.xlsx')\n",
    "    df = df[df['Tim'] == team]\n",
    "    players = df['Player'].tolist()\n",
    "    all_hero_pool = json.load(open('hero pool.json'))\n",
    "    hero_pool_team = []\n",
    "    for player in players:\n",
    "        hero_pool_team.append(all_hero_pool[player])\n",
    "    hero_pool_team = flatten_list_recursive(hero_pool_team)\n",
    "    hero_pool_team = list(set(hero_pool_team))\n",
    "\n",
    "    return hero_pool_team\n",
    "\n",
    "def hero_pool_with_power(team, player):\n",
    "    all_hero_pool = json.load(open('hero pool.json'))\n",
    "    hero_pool = all_hero_pool[player]\n",
    "    hero_pool_power = [hero_power_func(team, player, hero) for hero in hero_pool]\n",
    "    hero_pool_res = {}\n",
    "    for i in range(len(hero_pool)):\n",
    "        hero_pool_res[hero_pool[i]] = hero_pool_power[i]\n",
    "\n",
    "    return hero_pool_res\n",
    "\n",
    "def select_hero_by_highest_power(hero_pool):\n",
    "    hero_select = next(iter(hero_pool))\n",
    "    return hero_select, hero_pool[hero_select]\n",
    "\n",
    "def banned_foe_hero_team(foe_team):\n",
    "    foe_hero_pool_team = all_hero_pool_in_team(foe_team)\n",
    "    return rd.choice(foe_hero_pool_team)\n",
    "\n",
    "dataDraft = json.load(open('draft.json'))\n",
    "hero_pool = pd.read_excel(\"Hero Pool.xlsx\")\n",
    "all_hero_pool = json.load(open('hero pool.json'))\n",
    "all_team = []\n",
    "\n",
    "for tim in dataDraft['Tim']:\n",
    "    all_team.append(Team(tim, []))\n",
    "\n",
    "player = []\n",
    "\n",
    "for i in range(len(hero_pool)):\n",
    "    hero_pool_ex = hero_pool_with_power(hero_pool['Tim'][i], hero_pool['Player'][i])\n",
    "    hero_pool_player = []\n",
    "    for hero, power in hero_pool_ex.items():\n",
    "        hero_pool_player.append(Hero(hero, power, hero_pool['Player'][i]))\n",
    "\n",
    "    player.append(Player(hero_pool['Player'][i], hero_pool_player, hero_pool['Tim'][i])) \n",
    "\n",
    "for i in range(len(all_team)):\n",
    "    for j in range(len(player)):\n",
    "        if all_team[i].name == player[j].team:\n",
    "            all_team[i].player.append(player[j])\n",
    "\n",
    "# Open a file and use dump() \n",
    "with open('file.pkl', 'wb') as file: \n",
    "    pickle.dump(all_team, file) \n"
   ]
  },
  {
   "cell_type": "code",
   "execution_count": 67,
   "metadata": {},
   "outputs": [],
   "source": [
    "# Open a file and use dump() \n",
    "with open('DraftPick(Team-Player-Hero).pkl', 'wb') as file: \n",
    "    pickle.dump(all_team, file) "
   ]
  },
  {
   "cell_type": "code",
   "execution_count": 68,
   "metadata": {},
   "outputs": [],
   "source": [
    "data = pickle.load(open('DraftPick(Team-Player-Hero).pkl', 'rb'))"
   ]
  },
  {
   "cell_type": "code",
   "execution_count": 74,
   "metadata": {},
   "outputs": [
    {
     "data": {
      "text/plain": [
       "<__main__.Hero at 0x1f085b147d0>"
      ]
     },
     "execution_count": 74,
     "metadata": {},
     "output_type": "execute_result"
    }
   ],
   "source": [
    "data[0].player[0].hero_pool[0]"
   ]
  },
  {
   "cell_type": "code",
   "execution_count": null,
   "metadata": {},
   "outputs": [],
   "source": [
    "class Node:\n",
    "    def __init__(self, state, parent=None):\n",
    "        self.state = state  # Current hero selection state\n",
    "        self.parent = parent\n",
    "        self.children = []  # Possible next hero selections\n",
    "        self.visits = 0\n",
    "        self.value = 0"
   ]
  }
 ],
 "metadata": {
  "kernelspec": {
   "display_name": "Python 3",
   "language": "python",
   "name": "python3"
  },
  "language_info": {
   "codemirror_mode": {
    "name": "ipython",
    "version": 3
   },
   "file_extension": ".py",
   "mimetype": "text/x-python",
   "name": "python",
   "nbconvert_exporter": "python",
   "pygments_lexer": "ipython3",
   "version": "3.11.4"
  }
 },
 "nbformat": 4,
 "nbformat_minor": 2
}
